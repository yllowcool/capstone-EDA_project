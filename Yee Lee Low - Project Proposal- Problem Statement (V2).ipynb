{
 "cells": [
  {
   "cell_type": "code",
   "execution_count": null,
   "metadata": {},
   "outputs": [],
   "source": [
    "# Individual Project\n",
    "# Name  : Low Yee Lee \n",
    "# Class : 23rd Jun 7pm"
   ]
  },
  {
   "cell_type": "markdown",
   "metadata": {},
   "source": [
    "<center><h2>Effect of COE Bidding Results on Monthly New Registration of Motor Vehicles by Vehicle Quota Categories</h2></center>\n",
    " \n",
    "<hr>\n",
    "\n",
    "<b><u>Questions to explore and find out:</u></b>\n",
    "-\tDoes COE pricing have direct correlation to the total number of new vehicle registrations?\n",
    "-\tDoes changes in the COE pricing between different vehicle classes affects the class of vehicles registered on the roads?\n",
    "-\tIs there any observable trend between the public transport ridership as the trend of COE pricing changes?\n",
    "\n",
    "\n",
    "<u>Datasets for analysis:</u> \n",
    "1.\tCOE Bidding Results dataset from Data.gov.sg\n",
    "https://data.gov.sg/dataset/coe-bidding-results?resource_id=85deb904-fbf9-46bc-80fd-9676213bbf1f\n",
    "2.\tMonthly New Registration of Motor Vehicles by Vehicle Quota Categories from Data.gov.sg \n",
    "https://data.gov.sg/dataset/monthly-new-registration-of-motor-vehicles-by-vehicle-quota-categories?resource_id=4fab6bff-c962-4dbb-a2a3-1702257f1c33\n",
    "3.\tPublic Transport Utilisation Average Daily Public Transport Ridership from Data.gov.sg\n",
    "https://data.gov.sg/dataset/public-transport-utilisation-average-public-transport-ridership?view_id=29dd184a-55e2-4d85-8702-affc46ce7324&resource_id=552b8662-3cbc-48c0-9fbb-abdc07fb377a\n",
    "</div>"
   ]
  },
  {
   "cell_type": "markdown",
   "metadata": {},
   "source": [
    "Change History\n",
    "<br>V2\n",
    "1. Title of Project change to \"Effect of COE Bidding Results on Monthly Motor Vehicle Population by Vehicle Quota Category\" to \"...on Monthly New Registration of Motor Vehicles by Vehicle Quota Categories\"\n",
    "2. Change of question : \"Does COE pricing have direct correlation to the Motor Vehicle Population on the roads\" to \"...direct correlation to the total number of new vehicle registrations\"\n",
    "3. Replaced second dataset from \"Monthly Motor Vehicle Population by Vehicle Quota Category\" to \"Monthly New Registration of Motor Vehicles by Vehicle Quota Categories\""
   ]
  },
  {
   "cell_type": "code",
   "execution_count": null,
   "metadata": {},
   "outputs": [],
   "source": []
  }
 ],
 "metadata": {
  "kernelspec": {
   "display_name": "Python 3",
   "language": "python",
   "name": "python3"
  },
  "language_info": {
   "codemirror_mode": {
    "name": "ipython",
    "version": 3
   },
   "file_extension": ".py",
   "mimetype": "text/x-python",
   "name": "python",
   "nbconvert_exporter": "python",
   "pygments_lexer": "ipython3",
   "version": "3.7.0"
  }
 },
 "nbformat": 4,
 "nbformat_minor": 2
}
